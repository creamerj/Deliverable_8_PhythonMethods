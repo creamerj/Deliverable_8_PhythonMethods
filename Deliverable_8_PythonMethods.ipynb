{
  "nbformat": 4,
  "nbformat_minor": 0,
  "metadata": {
    "colab": {
      "provenance": []
    },
    "kernelspec": {
      "name": "python3",
      "display_name": "Python 3"
    },
    "language_info": {
      "name": "python"
    }
  },
  "cells": [
    {
      "cell_type": "code",
      "execution_count": 3,
      "metadata": {
        "id": "2Qjjw8H_I21R"
      },
      "outputs": [],
      "source": [
        "import numpy as np"
      ]
    },
    {
      "cell_type": "code",
      "source": [
        "def list_1(length):\n",
        "  return [np.random.randint(10,50) for _ in range(length)]"
      ],
      "metadata": {
        "id": "kmpDXb3wJ-zt"
      },
      "execution_count": 4,
      "outputs": []
    },
    {
      "cell_type": "code",
      "source": [
        "def list_2(lisst):\n",
        "  return sum(lisst)"
      ],
      "metadata": {
        "id": "SL9u2DIIKMQ9"
      },
      "execution_count": 21,
      "outputs": []
    },
    {
      "cell_type": "code",
      "source": [
        "while True:\n",
        "  num = int(input(\"Enter an integer between 5 and 15: \"))\n",
        "  if num >= 5 and num <= 15:\n",
        "    break"
      ],
      "metadata": {
        "colab": {
          "base_uri": "https://localhost:8080/"
        },
        "id": "TOz5QVqWLJuN",
        "outputId": "0e46fd7c-1c91-4b46-d4d1-befd1327b162"
      },
      "execution_count": 23,
      "outputs": [
        {
          "name": "stdout",
          "output_type": "stream",
          "text": [
            "Enter an integer between 5 and 15: 20\n",
            "Enter an integer between 5 and 15: 10\n"
          ]
        }
      ]
    },
    {
      "cell_type": "code",
      "source": [
        "list_1(num)\n",
        "array = list_1(num)\n",
        "print (\"The integers are: \", list_1(num))"
      ],
      "metadata": {
        "colab": {
          "base_uri": "https://localhost:8080/"
        },
        "id": "o0vYvpdKMO9r",
        "outputId": "13a2a711-5ca6-41c2-c7ae-853cae5f392e"
      },
      "execution_count": 27,
      "outputs": [
        {
          "output_type": "stream",
          "name": "stdout",
          "text": [
            "The integers are:  [47, 15, 42, 17, 42, 49, 46, 35, 30, 26]\n"
          ]
        }
      ]
    },
    {
      "cell_type": "code",
      "source": [
        "list_2(array)\n",
        "print (\"The sum of the integers is: \", list_2(array))"
      ],
      "metadata": {
        "colab": {
          "base_uri": "https://localhost:8080/"
        },
        "id": "DIXpQ9Z8Mmjn",
        "outputId": "426eb978-320c-429b-dec3-87b0af98f1f5"
      },
      "execution_count": 29,
      "outputs": [
        {
          "output_type": "stream",
          "name": "stdout",
          "text": [
            "The sum of the integers is:  339\n"
          ]
        }
      ]
    }
  ]
}